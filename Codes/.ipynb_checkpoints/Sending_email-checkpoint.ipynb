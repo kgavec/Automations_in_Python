{
 "cells": [
  {
   "cell_type": "markdown",
   "metadata": {},
   "source": [
    "### Connecting to an SMTP Server"
   ]
  },
  {
   "cell_type": "code",
   "execution_count": 1,
   "metadata": {},
   "outputs": [],
   "source": [
    "##importing libraries\n",
    "import smtplib\n",
    "from getpass import getpass"
   ]
  },
  {
   "cell_type": "markdown",
   "metadata": {},
   "source": [
    "<center>Table of Email Providers and their SMTP Servers<center>\n",
    "<br>\n",
    "    \n",
    "| <center>Provider |<center> SMTP server domain name | \n",
    "|------|------|\n",
    "|<P ALIGN=\"justify\">   Gmail  | smtp.gmail.com | \n",
    "|<P ALIGN=\"justify\">   Outlook.com / Hotmail.com  | smtp-mail.outlook.com | \n",
    "|<P ALIGN=\"justify\">   Yahoo Mail  | smtp.mail.yahoo.com | \n",
    "|<P ALIGN=\"justify\">   AT&T  | smpt.mail.att.net (port 465) | \n",
    "|<P ALIGN=\"justify\">   Comcast  | smtp.comcast.net | \n",
    "|<P ALIGN=\"justify\">   Verizon  | smtp.verizon.net (port 465) | \n",
    "\n",
    "<br>\n",
    "\n",
    "Creating smtp object for connecting to outlook.\n",
    "\n",
    "PS: The port is an integer value and will almost always be 587. \n",
    "<br>\n",
    "PS2: Sending email via gmail SMTP requires to \"Allow less secure apps: YES\""
   ]
  },
  {
   "cell_type": "code",
   "execution_count": 2,
   "metadata": {},
   "outputs": [
    {
     "data": {
      "text/plain": [
       "smtplib.SMTP"
      ]
     },
     "execution_count": 2,
     "metadata": {},
     "output_type": "execute_result"
    }
   ],
   "source": [
    "##setting parameters for Outlook\n",
    "server = smtplib.SMTP(host='smtp-mail.outlook.com',port=587)\n",
    "type(server)"
   ]
  },
  {
   "cell_type": "markdown",
   "metadata": {},
   "source": [
    "### Sending the SMTP “Hello” Message\n",
    "\n",
    "By doing this the connection to the server is establish and tested."
   ]
  },
  {
   "cell_type": "code",
   "execution_count": 3,
   "metadata": {},
   "outputs": [
    {
     "data": {
      "text/plain": [
       "(250,\n",
       " b'SC1P152CA0047.outlook.office365.com Hello [190.239.232.248]\\nSIZE 157286400\\nPIPELINING\\nDSN\\nENHANCEDSTATUSCODES\\nSTARTTLS\\n8BITMIME\\nBINARYMIME\\nCHUNKING\\nSMTPUTF8')"
      ]
     },
     "execution_count": 3,
     "metadata": {},
     "output_type": "execute_result"
    }
   ],
   "source": [
    "#Important to do before calling any other method\n",
    "server.ehlo()"
   ]
  },
  {
   "cell_type": "markdown",
   "metadata": {},
   "source": [
    "### Starting TLS Encryption\n",
    "\n",
    "Just do if working on port 587. It enables encryption for the connection"
   ]
  },
  {
   "cell_type": "code",
   "execution_count": 4,
   "metadata": {},
   "outputs": [
    {
     "data": {
      "text/plain": [
       "(220, b'2.0.0 SMTP server ready')"
      ]
     },
     "execution_count": 4,
     "metadata": {},
     "output_type": "execute_result"
    }
   ],
   "source": [
    "#if 220 is shown, the server is ready\n",
    "server.starttls()"
   ]
  },
  {
   "cell_type": "markdown",
   "metadata": {},
   "source": [
    "Use login() method to log in with your username and email password.\n",
    "Also use getpass() to hide your password when typed"
   ]
  },
  {
   "cell_type": "code",
   "execution_count": 5,
   "metadata": {},
   "outputs": [
    {
     "name": "stdout",
     "output_type": "stream",
     "text": [
      "Type your password: ········\n"
     ]
    },
    {
     "data": {
      "text/plain": [
       "(235, b'2.7.0 Authentication successful')"
      ]
     },
     "execution_count": 5,
     "metadata": {},
     "output_type": "execute_result"
    }
   ],
   "source": [
    "password = getpass(\"Type your password: \")\n",
    "server.login(\"example@hotmail.com\", password)"
   ]
  },
  {
   "cell_type": "markdown",
   "metadata": {},
   "source": [
    "Use sendmail() method to send an email."
   ]
  },
  {
   "cell_type": "code",
   "execution_count": 6,
   "metadata": {},
   "outputs": [
    {
     "name": "stdout",
     "output_type": "stream",
     "text": [
      "Sending email to outlook\n"
     ]
    }
   ],
   "source": [
    "##Parameters\n",
    "sender = \"example@hotmail.com\"\n",
    "receivers = [\"target@gmail.com\"]\n",
    "msg = '''Subject: SMTP e-mail Test with Python\n",
    "\n",
    "This is an automated message being sent by Python. \\nPython is the mastermind behind this.\n",
    "Panda Scientist\n",
    "'''\n",
    "#Send email\n",
    "server.sendmail(sender, receivers, msg)\n",
    "print ('Sending email to outlook')"
   ]
  },
  {
   "cell_type": "markdown",
   "metadata": {},
   "source": [
    "### Disconnecting from the SMTP Server\n",
    "No forget to disconnect your program from the SMTP server."
   ]
  },
  {
   "cell_type": "code",
   "execution_count": 7,
   "metadata": {},
   "outputs": [
    {
     "data": {
      "text/plain": [
       "(221, b'2.0.0 Service closing transmission channel')"
      ]
     },
     "execution_count": 7,
     "metadata": {},
     "output_type": "execute_result"
    }
   ],
   "source": [
    "server.quit()"
   ]
  }
 ],
 "metadata": {
  "kernelspec": {
   "display_name": "Python 3",
   "language": "python",
   "name": "python3"
  },
  "language_info": {
   "codemirror_mode": {
    "name": "ipython",
    "version": 3
   },
   "file_extension": ".py",
   "mimetype": "text/x-python",
   "name": "python",
   "nbconvert_exporter": "python",
   "pygments_lexer": "ipython3",
   "version": "3.7.3"
  }
 },
 "nbformat": 4,
 "nbformat_minor": 2
}
